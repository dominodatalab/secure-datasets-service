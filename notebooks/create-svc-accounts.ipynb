{
 "cells": [
  {
   "cell_type": "code",
   "execution_count": 6,
   "id": "17eb7b6d-2470-4ca3-9d21-78174cce1a3f",
   "metadata": {},
   "outputs": [
    {
     "name": "stdout",
     "output_type": "stream",
     "text": [
      "http://localhost:8899/v4/serviceAccounts\n",
      "<Response [200]>\n",
      "['svc-user-ds-1', 'svc-user-ds-2', 'svc-user-ds-3', 'svc-test-app-1', 'svc-prod-app-1', 'svc-admin']\n"
     ]
    }
   ],
   "source": [
    "import os\n",
    "import requests\n",
    "##Create service accounts and tokens\n",
    "#nucleus_uri = os.environ['DOMINO_API_HOST']\n",
    "api_proxy = os.environ['DOMINO_API_PROXY']\n",
    "svc_accounts_endpoint= f'{api_proxy}/v4/serviceAccounts'\n",
    "#token = requests.get(f'{api_proxy}/access_token').text\n",
    "print(svc_accounts_endpoint)\n",
    "resp = requests.get(svc_accounts_endpoint)\n",
    "print(resp)\n",
    "users=[]\n",
    "if resp.status_code==200:\n",
    "    for u in resp.json():\n",
    "        users.append(u['username'])\n",
    "print(users)\n",
    "\n",
    "\n",
    "\n",
    "\n",
    "    "
   ]
  },
  {
   "cell_type": "code",
   "execution_count": 4,
   "id": "ecaa5ba7-476a-445e-a938-24d8ce998ece",
   "metadata": {},
   "outputs": [],
   "source": [
    "svc_accounts=['svc-user-ds-1','svc-user-ds-2','svc-user-ds-3','svc-test-app-1','svc-prod-app-1','svc-admin']\n"
   ]
  },
  {
   "cell_type": "code",
   "execution_count": 7,
   "id": "9ba59f4c-b1ba-4b09-a96c-12785bf25f86",
   "metadata": {},
   "outputs": [],
   "source": [
    "for s in svc_accounts:\n",
    "    if s not in users:\n",
    "        data = {'username':s,'email':f'{s}@xyz.com'}\n",
    "        resp = requests.post(svc_accounts_endpoint,json=data,headers={'Content-Type':'application/json'})\n",
    "        print(f'Response for creating svc account {s} is {resp.status_code}')\n",
    "        #Create a service account'{\"username\": \"demo-sa\", \"email\": \"demo-sa@customer.com\"}' "
   ]
  },
  {
   "cell_type": "code",
   "execution_count": 8,
   "id": "b51284e8-df69-40df-bd61-3d52637b4ad1",
   "metadata": {},
   "outputs": [
    {
     "name": "stdout",
     "output_type": "stream",
     "text": [
      "<Response [200]>\n",
      "{'svc-user-ds-1': '004934b3-3efb-420a-9059-27ae0eb4babf', 'svc-user-ds-2': 'ecb7718d-e643-46c5-9d53-e3a89f174b10', 'svc-user-ds-3': 'cb2546aa-1b3c-4dff-b303-a5bbd989c08b', 'svc-test-app-1': '38015a03-8e66-48c9-8082-54503c206bbd', 'svc-prod-app-1': '81723029-997a-44e8-a71e-867bf38c54d4', 'svc-admin': '2c39f627-c906-47d8-a7f4-75d7915bd26f'}\n"
     ]
    }
   ],
   "source": [
    "#Now get Idp Id of all emails\n",
    "import requests\n",
    "resp = requests.get(svc_accounts_endpoint)\n",
    "print(resp)\n",
    "idp_by_user={}\n",
    "if resp.status_code==200:\n",
    "    for u in resp.json():\n",
    "        idp_by_user[u['username']]=u['idpId']\n",
    "print(idp_by_user)        "
   ]
  },
  {
   "cell_type": "code",
   "execution_count": 9,
   "id": "a1b3a0b3-25d6-46aa-a9a0-90edf98f5873",
   "metadata": {},
   "outputs": [
    {
     "name": "stdout",
     "output_type": "stream",
     "text": [
      "svc-user-ds-1\n",
      "svc-user-ds-2\n",
      "svc-user-ds-3\n",
      "svc-test-app-1\n",
      "svc-prod-app-1\n",
      "svc-admin\n"
     ]
    }
   ],
   "source": [
    "results = []\n",
    "token_name='token-for-svc-account-3'\n",
    "for user, idpid in idp_by_user.items():\n",
    "    print(user)"
   ]
  },
  {
   "cell_type": "code",
   "execution_count": 15,
   "id": "b4b1cd93-590d-4d85-908d-20fdbb5948b3",
   "metadata": {},
   "outputs": [
    {
     "name": "stdout",
     "output_type": "stream",
     "text": [
      "201\n",
      "201\n",
      "201\n",
      "201\n",
      "201\n",
      "201\n",
      "[{'name': 'svc-user-ds-1-token-app', 'serviceAccountIdpId': '004934b3-3efb-420a-9059-27ae0eb4babf', 'token': 'eyJhbGciOiJSUzI1NiIsInR5cCIgOiAiSldUIiwia2lkIiA6ICJzdjJuOGdVTy11eEQ3V3cxOURPSGZxZW82TnowS1dubVMtdHFLakxpZzI0In0.eyJleHAiOjE3MzE0Mzg5NTIsImlhdCI6MTcyMTA3MDk1MiwianRpIjoiNGQzNTg0ZGMtNjdkOS00NTJmLWE3NTgtNGNiMmY4ZTExODcwIiwiaXNzIjoiaHR0cHM6Ly9zZWN1cmVkczUzNzk5LmNzLmRvbWluby50ZWNoL2F1dGgvcmVhbG1zL0RvbWlub1JlYWxtIiwiYXVkIjoiYWNjb3VudCIsInN1YiI6IjAwNDkzNGIzLTNlZmItNDIwYS05MDU5LTI3YWUwZWI0YmFiZiIsInR5cCI6IkJlYXJlciIsImF6cCI6ImRvbWluby1zZXJ2aWNlLWFjY291bnRzIiwic2Vzc2lvbl9zdGF0ZSI6ImI1NmE5ZDlhLTA3NDUtNGU0NS1iYWJkLTE3YzQ3YWRkMmQ0YSIsInJlYWxtX2FjY2VzcyI6eyJyb2xlcyI6WyJvZmZsaW5lX2FjY2VzcyIsInVtYV9hdXRob3JpemF0aW9uIiwiZGVmYXVsdC1yb2xlcy1kb21pbm9yZWFsbSJdfSwicmVzb3VyY2VfYWNjZXNzIjp7ImRvbWluby1zZXJ2aWNlLWFjY291bnRzIjp7InJvbGVzIjpbImRvbWluby1zZXJ2aWNlLWFjY291bnQiXX0sImFjY291bnQiOnsicm9sZXMiOlsibWFuYWdlLWFjY291bnQiLCJtYW5hZ2UtYWNjb3VudC1saW5rcyIsInZpZXctcHJvZmlsZSJdfX0sInNjb3BlIjoib3BlbmlkIGVtYWlsIG9mZmxpbmVfYWNjZXNzIHByb2ZpbGUiLCJzaWQiOiJiNTZhOWQ5YS0wNzQ1LTRlNDUtYmFiZC0xN2M0N2FkZDJkNGEiLCJlbWFpbF92ZXJpZmllZCI6ZmFsc2UsIm5hbWUiOiJTQSBzdmMtdXNlci1kcy0xIiwicHJlZmVycmVkX3VzZXJuYW1lIjoic3ZjLXVzZXItZHMtMSIsImdpdmVuX25hbWUiOiJTQSIsImZhbWlseV9uYW1lIjoic3ZjLXVzZXItZHMtMSIsImVtYWlsIjoic3ZjLXVzZXItZHMtMUB4eXouY29tIiwidXNlcl9ncm91cHMiOlsiL3JvbGVzL1ByYWN0aXRpb25lciJdfQ.PyMccRyKizJgLwSU-4j9qxPLnA9iDvGbRr-nMifFtx3V3E0j72utpg7wtJic5YxRvjZAKSSGPw4-ohJUN5wnfLH8abcaJi2eSsR45TSd8fL1V36HWaq3_0PwzLZgidrUlfvT849nykVbMgXiYDRqvenQWSin0cXRxAcuzs-7c1uZqjzwcCPOMQUQRKfvf2lIAOs8GEQs7AkKyXIc7U2kSzfett0k2q5BfJeSYxUozlAGYfjRNVJCtYGXcuXX_JrYjyzGJNmz-YhY75T6lYEeyNBHJi2zUlCoMuUALB4gpZKJNYTT4fBb_teqfFQG54aGY8M0KnE9_2zqr2h_XxaavQ', 'isValid': True, 'createdAt': '2024-07-15T19:15:52.560Z', 'expiresAt': '2024-11-12T19:15:52.554167890Z'}, {'name': 'svc-user-ds-2-token-app', 'serviceAccountIdpId': 'ecb7718d-e643-46c5-9d53-e3a89f174b10', 'token': 'eyJhbGciOiJSUzI1NiIsInR5cCIgOiAiSldUIiwia2lkIiA6ICJzdjJuOGdVTy11eEQ3V3cxOURPSGZxZW82TnowS1dubVMtdHFLakxpZzI0In0.eyJleHAiOjE3MzE0Mzg5NTIsImlhdCI6MTcyMTA3MDk1MiwianRpIjoiYzFkZjE5YTMtNjE1Yi00MmRiLTg3ZjQtYjk2Yzk0ZDg2NGYyIiwiaXNzIjoiaHR0cHM6Ly9zZWN1cmVkczUzNzk5LmNzLmRvbWluby50ZWNoL2F1dGgvcmVhbG1zL0RvbWlub1JlYWxtIiwiYXVkIjoiYWNjb3VudCIsInN1YiI6ImVjYjc3MThkLWU2NDMtNDZjNS05ZDUzLWUzYTg5ZjE3NGIxMCIsInR5cCI6IkJlYXJlciIsImF6cCI6ImRvbWluby1zZXJ2aWNlLWFjY291bnRzIiwic2Vzc2lvbl9zdGF0ZSI6IjJmOTg2OWRhLWNhNTItNDE5ZS04ZmM3LTFiZjkzM2IwMzhlNCIsInJlYWxtX2FjY2VzcyI6eyJyb2xlcyI6WyJvZmZsaW5lX2FjY2VzcyIsInVtYV9hdXRob3JpemF0aW9uIiwiZGVmYXVsdC1yb2xlcy1kb21pbm9yZWFsbSJdfSwicmVzb3VyY2VfYWNjZXNzIjp7ImRvbWluby1zZXJ2aWNlLWFjY291bnRzIjp7InJvbGVzIjpbImRvbWluby1zZXJ2aWNlLWFjY291bnQiXX0sImFjY291bnQiOnsicm9sZXMiOlsibWFuYWdlLWFjY291bnQiLCJtYW5hZ2UtYWNjb3VudC1saW5rcyIsInZpZXctcHJvZmlsZSJdfX0sInNjb3BlIjoib3BlbmlkIGVtYWlsIG9mZmxpbmVfYWNjZXNzIHByb2ZpbGUiLCJzaWQiOiIyZjk4NjlkYS1jYTUyLTQxOWUtOGZjNy0xYmY5MzNiMDM4ZTQiLCJlbWFpbF92ZXJpZmllZCI6ZmFsc2UsIm5hbWUiOiJTQSBzdmMtdXNlci1kcy0yIiwicHJlZmVycmVkX3VzZXJuYW1lIjoic3ZjLXVzZXItZHMtMiIsImdpdmVuX25hbWUiOiJTQSIsImZhbWlseV9uYW1lIjoic3ZjLXVzZXItZHMtMiIsImVtYWlsIjoic3ZjLXVzZXItZHMtMkB4eXouY29tIiwidXNlcl9ncm91cHMiOlsiL3JvbGVzL1ByYWN0aXRpb25lciJdfQ.U06I2HSt24PrcK5-_Yi4uz1iMcu8addkhLlHX8L8JZQL2srV6zfBiJtMH5pTw4n71VY6avP2PRZ0t8D724UVCTp4yzl4Aomg7zCNVvx8ti358u2f-dQ0J-Z6oR9H2RZs_x4HRD6AKI-OOQcdu_PvYPd3zTR31C_TpNiWfSgV-nMrMrMX3xWCuprNDABvf0sZO84-PRwv6zBCV1ZP0ZfkPnEn2pr7RHUcYYSVUIPYr2YeSbAFLKF-gmDvTKIqU-xYQp7C-FIscXg09oiKPf8qi0dCggiw57M7ja3PsL8RwBFuoWvIEV28JxnBQpXIbdSo0X2yTVpBvFLsp8cuZ2YtXw', 'isValid': True, 'createdAt': '2024-07-15T19:15:52.888Z', 'expiresAt': '2024-11-12T19:15:52.882393284Z'}, {'name': 'svc-user-ds-3-token-app', 'serviceAccountIdpId': 'cb2546aa-1b3c-4dff-b303-a5bbd989c08b', 'token': 'eyJhbGciOiJSUzI1NiIsInR5cCIgOiAiSldUIiwia2lkIiA6ICJzdjJuOGdVTy11eEQ3V3cxOURPSGZxZW82TnowS1dubVMtdHFLakxpZzI0In0.eyJleHAiOjE3MzE0Mzg5NTMsImlhdCI6MTcyMTA3MDk1MywianRpIjoiNmU4MzczMmUtYmE2YS00ODZkLTg1OGYtZTY4ZmE2YTM5N2JiIiwiaXNzIjoiaHR0cHM6Ly9zZWN1cmVkczUzNzk5LmNzLmRvbWluby50ZWNoL2F1dGgvcmVhbG1zL0RvbWlub1JlYWxtIiwiYXVkIjoiYWNjb3VudCIsInN1YiI6ImNiMjU0NmFhLTFiM2MtNGRmZi1iMzAzLWE1YmJkOTg5YzA4YiIsInR5cCI6IkJlYXJlciIsImF6cCI6ImRvbWluby1zZXJ2aWNlLWFjY291bnRzIiwic2Vzc2lvbl9zdGF0ZSI6IjE5MjgxMDJkLWU5MDMtNDgwYy1hYjFjLWY1NzY2M2ZhOWQ5OCIsInJlYWxtX2FjY2VzcyI6eyJyb2xlcyI6WyJvZmZsaW5lX2FjY2VzcyIsInVtYV9hdXRob3JpemF0aW9uIiwiZGVmYXVsdC1yb2xlcy1kb21pbm9yZWFsbSJdfSwicmVzb3VyY2VfYWNjZXNzIjp7ImRvbWluby1zZXJ2aWNlLWFjY291bnRzIjp7InJvbGVzIjpbImRvbWluby1zZXJ2aWNlLWFjY291bnQiXX0sImFjY291bnQiOnsicm9sZXMiOlsibWFuYWdlLWFjY291bnQiLCJtYW5hZ2UtYWNjb3VudC1saW5rcyIsInZpZXctcHJvZmlsZSJdfX0sInNjb3BlIjoib3BlbmlkIGVtYWlsIG9mZmxpbmVfYWNjZXNzIHByb2ZpbGUiLCJzaWQiOiIxOTI4MTAyZC1lOTAzLTQ4MGMtYWIxYy1mNTc2NjNmYTlkOTgiLCJlbWFpbF92ZXJpZmllZCI6ZmFsc2UsIm5hbWUiOiJTQSBzdmMtdXNlci1kcy0zIiwicHJlZmVycmVkX3VzZXJuYW1lIjoic3ZjLXVzZXItZHMtMyIsImdpdmVuX25hbWUiOiJTQSIsImZhbWlseV9uYW1lIjoic3ZjLXVzZXItZHMtMyIsImVtYWlsIjoic3ZjLXVzZXItZHMtM0B4eXouY29tIiwidXNlcl9ncm91cHMiOlsiL3JvbGVzL1ByYWN0aXRpb25lciJdfQ.UKbF7OuVlvVXSlgyo2SvSx6yVhFg5YbGsgRkE7as12xAQjv8tW1XuXlhvoEEnqmUKvXcWGgt40--hpa07ISFQ_4vTCAq9Os3_Ea86mzYryUCAe8wOew3XdcACa3rdIklt0xWAsSIGQRkxtkalramSBxFux4L2VFHDykamJLBWl8mvi6QrSrSq-SPoJGE-ISbuowI5Ut52z7D2ZKsIGyEyX3Qm3NfkR024LcXBHtmbKy0-oszUX2SuMbxTnxFwHIsn7w9S0nIhTD83esqRoLWYJTYdYBTcUl0OFxN3g2WsUONMH4ILt_bkXXw-EOwFIW5__BbZa2q34xK1-cJFSV48g', 'isValid': True, 'createdAt': '2024-07-15T19:15:53.222Z', 'expiresAt': '2024-11-12T19:15:53.216607343Z'}, {'name': 'svc-test-app-1-token-app', 'serviceAccountIdpId': '38015a03-8e66-48c9-8082-54503c206bbd', 'token': 'eyJhbGciOiJSUzI1NiIsInR5cCIgOiAiSldUIiwia2lkIiA6ICJzdjJuOGdVTy11eEQ3V3cxOURPSGZxZW82TnowS1dubVMtdHFLakxpZzI0In0.eyJleHAiOjE3MzE0Mzg5NTMsImlhdCI6MTcyMTA3MDk1MywianRpIjoiNDUxOTc2MDYtZTAwNy00OTQ1LThiN2ItYTcwOWI0NjRkNDYzIiwiaXNzIjoiaHR0cHM6Ly9zZWN1cmVkczUzNzk5LmNzLmRvbWluby50ZWNoL2F1dGgvcmVhbG1zL0RvbWlub1JlYWxtIiwiYXVkIjoiYWNjb3VudCIsInN1YiI6IjM4MDE1YTAzLThlNjYtNDhjOS04MDgyLTU0NTAzYzIwNmJiZCIsInR5cCI6IkJlYXJlciIsImF6cCI6ImRvbWluby1zZXJ2aWNlLWFjY291bnRzIiwic2Vzc2lvbl9zdGF0ZSI6ImYyNWM4NmEyLTBlYWItNGRlZi04NTNlLTE5YzM5ZTFjOWJlZSIsInJlYWxtX2FjY2VzcyI6eyJyb2xlcyI6WyJvZmZsaW5lX2FjY2VzcyIsInVtYV9hdXRob3JpemF0aW9uIiwiZGVmYXVsdC1yb2xlcy1kb21pbm9yZWFsbSJdfSwicmVzb3VyY2VfYWNjZXNzIjp7ImRvbWluby1zZXJ2aWNlLWFjY291bnRzIjp7InJvbGVzIjpbImRvbWluby1zZXJ2aWNlLWFjY291bnQiXX0sImFjY291bnQiOnsicm9sZXMiOlsibWFuYWdlLWFjY291bnQiLCJtYW5hZ2UtYWNjb3VudC1saW5rcyIsInZpZXctcHJvZmlsZSJdfX0sInNjb3BlIjoib3BlbmlkIGVtYWlsIG9mZmxpbmVfYWNjZXNzIHByb2ZpbGUiLCJzaWQiOiJmMjVjODZhMi0wZWFiLTRkZWYtODUzZS0xOWMzOWUxYzliZWUiLCJlbWFpbF92ZXJpZmllZCI6ZmFsc2UsIm5hbWUiOiJTQSBzdmMtdGVzdC1hcHAtMSIsInByZWZlcnJlZF91c2VybmFtZSI6InN2Yy10ZXN0LWFwcC0xIiwiZ2l2ZW5fbmFtZSI6IlNBIiwiZmFtaWx5X25hbWUiOiJzdmMtdGVzdC1hcHAtMSIsImVtYWlsIjoic3ZjLXRlc3QtYXBwLTFAeHl6LmNvbSIsInVzZXJfZ3JvdXBzIjpbIi9yb2xlcy9QcmFjdGl0aW9uZXIiXX0.hqARyHqm0f5eDGF1PhwNHYbAnJdhPX-vX3h4RLKuj49AZCjsIw_jT4BcCKwCTnQk24D9_ypOgT7DBWrbwTP9n9AWIJyFW9nVEgbk_GdCssJSqTD0djYWFwpjPy_VCYk52Ql12AaDX24L7J4sm4b9w_PrfyBmT3kjH-SXmNKuzTOF6aDSRSN3E8ZLoRyLX56rCnG9_8U7rasBGVEkXJmY1g0IOMUWDWuwDNUHuucKoHamAZAikhrWw9_r9IXlRkDyvZGOwJriyRE-qM7fhUNrGuXV9P6jM-Efhsq2byFtDfWcex8omgpC-ynisk5m__FuKlOl6Rzfb9sOi_yoBlFWtA', 'isValid': True, 'createdAt': '2024-07-15T19:15:53.556Z', 'expiresAt': '2024-11-12T19:15:53.549267949Z'}, {'name': 'svc-prod-app-1-token-app', 'serviceAccountIdpId': '81723029-997a-44e8-a71e-867bf38c54d4', 'token': 'eyJhbGciOiJSUzI1NiIsInR5cCIgOiAiSldUIiwia2lkIiA6ICJzdjJuOGdVTy11eEQ3V3cxOURPSGZxZW82TnowS1dubVMtdHFLakxpZzI0In0.eyJleHAiOjE3MzE0Mzg5NTMsImlhdCI6MTcyMTA3MDk1MywianRpIjoiNmNkY2MyZDYtNmE3Yi00OGU1LWJkMjEtNDViNzgxMWU0YTFhIiwiaXNzIjoiaHR0cHM6Ly9zZWN1cmVkczUzNzk5LmNzLmRvbWluby50ZWNoL2F1dGgvcmVhbG1zL0RvbWlub1JlYWxtIiwiYXVkIjoiYWNjb3VudCIsInN1YiI6IjgxNzIzMDI5LTk5N2EtNDRlOC1hNzFlLTg2N2JmMzhjNTRkNCIsInR5cCI6IkJlYXJlciIsImF6cCI6ImRvbWluby1zZXJ2aWNlLWFjY291bnRzIiwic2Vzc2lvbl9zdGF0ZSI6ImNhNDZhNDRhLTY3MDItNDY4Mi04NjkxLTM1NDAzNDI5MTAwMyIsInJlYWxtX2FjY2VzcyI6eyJyb2xlcyI6WyJvZmZsaW5lX2FjY2VzcyIsInVtYV9hdXRob3JpemF0aW9uIiwiZGVmYXVsdC1yb2xlcy1kb21pbm9yZWFsbSJdfSwicmVzb3VyY2VfYWNjZXNzIjp7ImRvbWluby1zZXJ2aWNlLWFjY291bnRzIjp7InJvbGVzIjpbImRvbWluby1zZXJ2aWNlLWFjY291bnQiXX0sImFjY291bnQiOnsicm9sZXMiOlsibWFuYWdlLWFjY291bnQiLCJtYW5hZ2UtYWNjb3VudC1saW5rcyIsInZpZXctcHJvZmlsZSJdfX0sInNjb3BlIjoib3BlbmlkIGVtYWlsIG9mZmxpbmVfYWNjZXNzIHByb2ZpbGUiLCJzaWQiOiJjYTQ2YTQ0YS02NzAyLTQ2ODItODY5MS0zNTQwMzQyOTEwMDMiLCJlbWFpbF92ZXJpZmllZCI6ZmFsc2UsIm5hbWUiOiJTQSBzdmMtcHJvZC1hcHAtMSIsInByZWZlcnJlZF91c2VybmFtZSI6InN2Yy1wcm9kLWFwcC0xIiwiZ2l2ZW5fbmFtZSI6IlNBIiwiZmFtaWx5X25hbWUiOiJzdmMtcHJvZC1hcHAtMSIsImVtYWlsIjoic3ZjLXByb2QtYXBwLTFAeHl6LmNvbSIsInVzZXJfZ3JvdXBzIjpbIi9yb2xlcy9QcmFjdGl0aW9uZXIiXX0.c3PZVy5qTjkEIaTS-QxKxRHhBxCMMJiF1J2lXOIxKru28C_LbJaUeRLkh67cJIBZoqUW1lAdFC5fK_D1LqlGhy3VAoIft75dTeDmkhDiYFOxvY_W_ltHs4npW1bpdoxGFkOL3UqORYUBAe-U4n1sdy5gP_t7eUemvmSE0K6aQe_O44HiIoQaUk7QjME8u02AUqKjRr28uvjOGpAanlt9ZvtBylbq_GGAEPexwEtrm8KSXFNvxX_ISnFsODFdrooE9aKD8Q1GdTv8lKifc-TZpoDCA95cWFzKZw013MM_w_nO2ah2zTzYO--jY-d6_cdkdh1tNnaenpCUQtrYZ1IVng', 'isValid': True, 'createdAt': '2024-07-15T19:15:53.889Z', 'expiresAt': '2024-11-12T19:15:53.880927851Z'}, {'name': 'svc-admin-token-app', 'serviceAccountIdpId': '2c39f627-c906-47d8-a7f4-75d7915bd26f', 'token': 'eyJhbGciOiJSUzI1NiIsInR5cCIgOiAiSldUIiwia2lkIiA6ICJzdjJuOGdVTy11eEQ3V3cxOURPSGZxZW82TnowS1dubVMtdHFLakxpZzI0In0.eyJleHAiOjE3MzE0Mzg5NTQsImlhdCI6MTcyMTA3MDk1NCwianRpIjoiZTNkNjVhZDgtNWIzOC00YTk2LWI3NWQtNTVhMGIyZjY3MjE2IiwiaXNzIjoiaHR0cHM6Ly9zZWN1cmVkczUzNzk5LmNzLmRvbWluby50ZWNoL2F1dGgvcmVhbG1zL0RvbWlub1JlYWxtIiwiYXVkIjoiYWNjb3VudCIsInN1YiI6IjJjMzlmNjI3LWM5MDYtNDdkOC1hN2Y0LTc1ZDc5MTViZDI2ZiIsInR5cCI6IkJlYXJlciIsImF6cCI6ImRvbWluby1zZXJ2aWNlLWFjY291bnRzIiwic2Vzc2lvbl9zdGF0ZSI6ImEwNWQyZjExLTIwZjktNGFkMi04NTQxLWUwMTA0ZGQ4NzY2NSIsInJlYWxtX2FjY2VzcyI6eyJyb2xlcyI6WyJvZmZsaW5lX2FjY2VzcyIsInVtYV9hdXRob3JpemF0aW9uIiwiZGVmYXVsdC1yb2xlcy1kb21pbm9yZWFsbSJdfSwicmVzb3VyY2VfYWNjZXNzIjp7ImRvbWluby1zZXJ2aWNlLWFjY291bnRzIjp7InJvbGVzIjpbImRvbWluby1zZXJ2aWNlLWFjY291bnQiXX0sImFjY291bnQiOnsicm9sZXMiOlsibWFuYWdlLWFjY291bnQiLCJtYW5hZ2UtYWNjb3VudC1saW5rcyIsInZpZXctcHJvZmlsZSJdfX0sInNjb3BlIjoib3BlbmlkIGVtYWlsIG9mZmxpbmVfYWNjZXNzIHByb2ZpbGUiLCJzaWQiOiJhMDVkMmYxMS0yMGY5LTRhZDItODU0MS1lMDEwNGRkODc2NjUiLCJlbWFpbF92ZXJpZmllZCI6ZmFsc2UsIm5hbWUiOiJTQSBzdmMtYWRtaW4iLCJwcmVmZXJyZWRfdXNlcm5hbWUiOiJzdmMtYWRtaW4iLCJnaXZlbl9uYW1lIjoiU0EiLCJmYW1pbHlfbmFtZSI6InN2Yy1hZG1pbiIsImVtYWlsIjoic3ZjLWFkbWluQHh5ei5jb20iLCJ1c2VyX2dyb3VwcyI6WyIvcm9sZXMvUHJhY3RpdGlvbmVyIl19.EUWZCauL6XJ6A1tylMTP-H7YRwfktz1xQ1FG_UQfiJXKzqiMgn-rtFby9z093fBvdrwb9NVFi_4hHnv8q241Rqz8NX6MS2gFlVNOeZ8iJEEA23-zZkSyq4b3c1kC3Nbd5S7a5A8oO2FEhgV5JN_mr3WklLJ1naR960AZiitPfn3ndHIkA6tr6AX4_vmJU9k3kevekxXD6hySQXFE0sMufjFnPo5h6neJrSLXcuhnBwbI8t1UV80HBDOoQanHMX0mxzYk7QLKetGtRUTOoqlXVswFgzdL4CyQ3FNC_UIvIQIziqNkl-thMqrM-5ShTi4Uj91e13Sycx9ysCyw_p0X1g', 'isValid': True, 'createdAt': '2024-07-15T19:15:54.217Z', 'expiresAt': '2024-11-12T19:15:54.211136049Z'}]\n"
     ]
    }
   ],
   "source": [
    "results = []\n",
    "#token_name='token-for-svc-account-3'\n",
    "for user, idpid in idp_by_user.items():\n",
    "    token_endpoint= f'{api_proxy}/v4/serviceAccounts/{idpid}/tokens'    \n",
    "    data = {} \n",
    "    data['name']=f'{user}-token-app'\n",
    "    \n",
    "    \n",
    "    resp = requests.post(token_endpoint,json=data,headers={'Content-Type':'application/json'})\n",
    "    print(resp.status_code)\n",
    "\n",
    "    if resp.status_code==201:\n",
    "       out = resp.json()    \n",
    "       results.append(out)\n",
    "\n",
    "print(results)\n",
    "\n",
    "  "
   ]
  },
  {
   "cell_type": "code",
   "execution_count": 16,
   "id": "2f209e0e-1941-4d1f-8fee-9337a8ae85b3",
   "metadata": {},
   "outputs": [],
   "source": [
    "#print(results)\n",
    "file_path = \"/mnt/sa-tokens.json\"\n",
    "import json\n",
    "# Write the JSON object to a file\n",
    "with open(file_path, 'w') as file:\n",
    "    json.dump(results, file, indent=4)  "
   ]
  },
  {
   "cell_type": "code",
   "execution_count": null,
   "id": "66d6bac8-a18b-4189-93ac-a180f99fc2d1",
   "metadata": {},
   "outputs": [],
   "source": []
  }
 ],
 "metadata": {
  "kernelspec": {
   "display_name": "Python 3 (ipykernel)",
   "language": "python",
   "name": "python3"
  },
  "language_info": {
   "codemirror_mode": {
    "name": "ipython",
    "version": 3
   },
   "file_extension": ".py",
   "mimetype": "text/x-python",
   "name": "python",
   "nbconvert_exporter": "python",
   "pygments_lexer": "ipython3",
   "version": "3.10.14"
  }
 },
 "nbformat": 4,
 "nbformat_minor": 5
}
