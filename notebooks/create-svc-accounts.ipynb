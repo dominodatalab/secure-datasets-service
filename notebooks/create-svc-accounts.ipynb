{
 "cells": [
  {
   "cell_type": "code",
   "execution_count": null,
   "id": "17eb7b6d-2470-4ca3-9d21-78174cce1a3f",
   "metadata": {},
   "outputs": [],
   "source": [
    "import os\n",
    "import requests\n",
    "##Create service accounts and tokens\n",
    "#nucleus_uri = os.environ['DOMINO_API_HOST']\n",
    "api_proxy = os.environ['DOMINO_API_PROXY']\n",
    "svc_accounts_endpoint= f'{api_proxy}/v4/serviceAccounts'\n",
    "#token = requests.get(f'{api_proxy}/access_token').text\n",
    "print(svc_accounts_endpoint)\n",
    "resp = requests.get(svc_accounts_endpoint)\n",
    "print(resp)\n",
    "users=[]\n",
    "if resp.status_code==200:\n",
    "    for u in resp.json():\n",
    "        users.append(u['username'])\n",
    "print(users)\n",
    "\n",
    "\n",
    "\n",
    "\n",
    "    "
   ]
  },
  {
   "cell_type": "code",
   "execution_count": null,
   "id": "ecaa5ba7-476a-445e-a938-24d8ce998ece",
   "metadata": {},
   "outputs": [],
   "source": [
    "svc_accounts=['svc-user-ds-1','svc-user-ds-2','svc-user-ds-3','svc-test-app-1','svc-prod-app-1','svc-admin']\n"
   ]
  },
  {
   "cell_type": "code",
   "execution_count": null,
   "id": "9ba59f4c-b1ba-4b09-a96c-12785bf25f86",
   "metadata": {},
   "outputs": [],
   "source": [
    "for s in svc_accounts:\n",
    "    if s not in users:\n",
    "        data = {'username':s,'email':f'{s}@xyz.com'}\n",
    "        resp = requests.post(svc_accounts_endpoint,json=data,headers={'Content-Type':'application/json'})\n",
    "        print(f'Response for creating svc account {s} is {resp.status_code}')\n",
    "        #Create a service account'{\"username\": \"demo-sa\", \"email\": \"demo-sa@customer.com\"}' "
   ]
  },
  {
   "cell_type": "code",
   "execution_count": null,
   "id": "b51284e8-df69-40df-bd61-3d52637b4ad1",
   "metadata": {},
   "outputs": [],
   "source": [
    "#Now get Idp Id of all emails\n",
    "import requests\n",
    "resp = requests.get(svc_accounts_endpoint)\n",
    "print(resp)\n",
    "idp_by_user={}\n",
    "if resp.status_code==200:\n",
    "    for u in resp.json():\n",
    "        idp_by_user[u['username']]=u['idpId']\n",
    "print(idp_by_user)        "
   ]
  },
  {
   "cell_type": "code",
   "execution_count": null,
   "id": "a1b3a0b3-25d6-46aa-a9a0-90edf98f5873",
   "metadata": {},
   "outputs": [],
   "source": [
    "results = []\n",
    "token_name='token-for-svc-account-3'\n",
    "for user, idpid in idp_by_user.items():\n",
    "    print(user)"
   ]
  },
  {
   "cell_type": "code",
   "execution_count": null,
   "id": "b4b1cd93-590d-4d85-908d-20fdbb5948b3",
   "metadata": {},
   "outputs": [],
   "source": [
    "results = []\n",
    "#token_name='token-for-svc-account-3'\n",
    "for user, idpid in idp_by_user.items():\n",
    "    token_endpoint= f'{api_proxy}/v4/serviceAccounts/{idpid}/tokens'    \n",
    "    data = {} \n",
    "    data['name']=f'{user}-token-app'\n",
    "    \n",
    "    \n",
    "    resp = requests.post(token_endpoint,json=data,headers={'Content-Type':'application/json'})\n",
    "    print(resp.status_code)\n",
    "\n",
    "    if resp.status_code==201:\n",
    "       out = resp.json()    \n",
    "       results.append(out)\n",
    "\n",
    "print(results)\n",
    "\n",
    "  "
   ]
  },
  {
   "cell_type": "code",
   "execution_count": null,
   "id": "2f209e0e-1941-4d1f-8fee-9337a8ae85b3",
   "metadata": {},
   "outputs": [],
   "source": [
    "#print(results)\n",
    "file_path = \"/mnt/sa-tokens.json\"\n",
    "import json\n",
    "# Write the JSON object to a file\n",
    "with open(file_path, 'w') as file:\n",
    "    json.dump(results, file, indent=4)  "
   ]
  },
  {
   "cell_type": "code",
   "execution_count": null,
   "id": "66d6bac8-a18b-4189-93ac-a180f99fc2d1",
   "metadata": {},
   "outputs": [],
   "source": []
  }
 ],
 "metadata": {
  "kernelspec": {
   "display_name": "Python 3 (ipykernel)",
   "language": "python",
   "name": "python3"
  },
  "language_info": {
   "codemirror_mode": {
    "name": "ipython",
    "version": 3
   },
   "file_extension": ".py",
   "mimetype": "text/x-python",
   "name": "python",
   "nbconvert_exporter": "python",
   "pygments_lexer": "ipython3",
   "version": "3.10.14"
  }
 },
 "nbformat": 4,
 "nbformat_minor": 5
}
